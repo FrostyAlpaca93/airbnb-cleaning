{
 "cells": [
  {
   "cell_type": "markdown",
   "id": "2bb5498b-2001-4355-98e0-4c70f3284e42",
   "metadata": {},
   "source": [
    "# Introduction\n",
    "\n",
    "## Project Overview\n",
    "In this project, we delve into the task of cleaning a dataset from Airbnb. Airbnb, a prominent player in the online accommodation booking space, offers a wealth of data that can provide insightful information into rental trends, pricing patterns, host activities, and guest preferences.\n",
    "\n",
    "## Objective\n",
    "The primary objective of this data cleaning exercise is to prepare the dataset for accurate and efficient analysis. Data cleaning is a critical step in the data analysis process as it involves rectifying or removing incorrect, incomplete, or irrelevant data. By ensuring the quality and integrity of our data, we can guarantee more reliable and valid analysis results.\n",
    "\n",
    "## Dataset Description\n",
    "The dataset encompasses various features related to Airbnb listings, such as location details, pricing, host information, reviews, and availability. However, like many real-world datasets, it contains its share of challenges, including missing values, outliers, and inconsistencies that need to be addressed.\n",
    "\n",
    "## Approach\n",
    "Our approach to cleaning this dataset involves several steps:\n",
    "- Identifying and handling missing values.\n",
    "- Correcting data types and formats.\n",
    "- Detecting and treating outliers.\n",
    "- Ensuring data consistency and accuracy.\n",
    "\n",
    "By the end of this project, we aim to have a clean, well-structured dataset that is ready for further analysis and can be used to derive meaningful insights about the Airbnb market.\n",
    "\n",
    "## Source\n",
    "Airbnb Open Data on Kaggle:\n",
    "- https://www.kaggle.com/datasets/arianazmoudeh/airbnbopendata/data\n",
    "\n",
    "---"
   ]
  },
  {
   "cell_type": "code",
   "execution_count": 2,
   "id": "f1fd3eaf-c4a6-4719-81c1-2d52c7a56437",
   "metadata": {},
   "outputs": [
    {
     "name": "stderr",
     "output_type": "stream",
     "text": [
      "/var/folders/bj/l1bnwrwj2gvfmhstjqwrc_7m0000gn/T/ipykernel_4503/3888476061.py:5: DtypeWarning: Columns (25) have mixed types. Specify dtype option on import or set low_memory=False.\n",
      "  airbnb_df = pd.read_csv(file_path)\n"
     ]
    },
    {
     "data": {
      "text/html": [
       "<div>\n",
       "<style scoped>\n",
       "    .dataframe tbody tr th:only-of-type {\n",
       "        vertical-align: middle;\n",
       "    }\n",
       "\n",
       "    .dataframe tbody tr th {\n",
       "        vertical-align: top;\n",
       "    }\n",
       "\n",
       "    .dataframe thead th {\n",
       "        text-align: right;\n",
       "    }\n",
       "</style>\n",
       "<table border=\"1\" class=\"dataframe\">\n",
       "  <thead>\n",
       "    <tr style=\"text-align: right;\">\n",
       "      <th></th>\n",
       "      <th>id</th>\n",
       "      <th>NAME</th>\n",
       "      <th>host id</th>\n",
       "      <th>host_identity_verified</th>\n",
       "      <th>host name</th>\n",
       "      <th>neighbourhood group</th>\n",
       "      <th>neighbourhood</th>\n",
       "      <th>lat</th>\n",
       "      <th>long</th>\n",
       "      <th>country</th>\n",
       "      <th>...</th>\n",
       "      <th>service fee</th>\n",
       "      <th>minimum nights</th>\n",
       "      <th>number of reviews</th>\n",
       "      <th>last review</th>\n",
       "      <th>reviews per month</th>\n",
       "      <th>review rate number</th>\n",
       "      <th>calculated host listings count</th>\n",
       "      <th>availability 365</th>\n",
       "      <th>house_rules</th>\n",
       "      <th>license</th>\n",
       "    </tr>\n",
       "  </thead>\n",
       "  <tbody>\n",
       "    <tr>\n",
       "      <th>0</th>\n",
       "      <td>1001254</td>\n",
       "      <td>Clean &amp; quiet apt home by the park</td>\n",
       "      <td>80014485718</td>\n",
       "      <td>unconfirmed</td>\n",
       "      <td>Madaline</td>\n",
       "      <td>Brooklyn</td>\n",
       "      <td>Kensington</td>\n",
       "      <td>40.64749</td>\n",
       "      <td>-73.97237</td>\n",
       "      <td>United States</td>\n",
       "      <td>...</td>\n",
       "      <td>$193</td>\n",
       "      <td>10.0</td>\n",
       "      <td>9.0</td>\n",
       "      <td>10/19/2021</td>\n",
       "      <td>0.21</td>\n",
       "      <td>4.0</td>\n",
       "      <td>6.0</td>\n",
       "      <td>286.0</td>\n",
       "      <td>Clean up and treat the home the way you'd like...</td>\n",
       "      <td>NaN</td>\n",
       "    </tr>\n",
       "    <tr>\n",
       "      <th>1</th>\n",
       "      <td>1002102</td>\n",
       "      <td>Skylit Midtown Castle</td>\n",
       "      <td>52335172823</td>\n",
       "      <td>verified</td>\n",
       "      <td>Jenna</td>\n",
       "      <td>Manhattan</td>\n",
       "      <td>Midtown</td>\n",
       "      <td>40.75362</td>\n",
       "      <td>-73.98377</td>\n",
       "      <td>United States</td>\n",
       "      <td>...</td>\n",
       "      <td>$28</td>\n",
       "      <td>30.0</td>\n",
       "      <td>45.0</td>\n",
       "      <td>5/21/2022</td>\n",
       "      <td>0.38</td>\n",
       "      <td>4.0</td>\n",
       "      <td>2.0</td>\n",
       "      <td>228.0</td>\n",
       "      <td>Pet friendly but please confirm with me if the...</td>\n",
       "      <td>NaN</td>\n",
       "    </tr>\n",
       "    <tr>\n",
       "      <th>2</th>\n",
       "      <td>1002403</td>\n",
       "      <td>THE VILLAGE OF HARLEM....NEW YORK !</td>\n",
       "      <td>78829239556</td>\n",
       "      <td>NaN</td>\n",
       "      <td>Elise</td>\n",
       "      <td>Manhattan</td>\n",
       "      <td>Harlem</td>\n",
       "      <td>40.80902</td>\n",
       "      <td>-73.94190</td>\n",
       "      <td>United States</td>\n",
       "      <td>...</td>\n",
       "      <td>$124</td>\n",
       "      <td>3.0</td>\n",
       "      <td>0.0</td>\n",
       "      <td>NaN</td>\n",
       "      <td>NaN</td>\n",
       "      <td>5.0</td>\n",
       "      <td>1.0</td>\n",
       "      <td>352.0</td>\n",
       "      <td>I encourage you to use my kitchen, cooking and...</td>\n",
       "      <td>NaN</td>\n",
       "    </tr>\n",
       "    <tr>\n",
       "      <th>3</th>\n",
       "      <td>1002755</td>\n",
       "      <td>NaN</td>\n",
       "      <td>85098326012</td>\n",
       "      <td>unconfirmed</td>\n",
       "      <td>Garry</td>\n",
       "      <td>Brooklyn</td>\n",
       "      <td>Clinton Hill</td>\n",
       "      <td>40.68514</td>\n",
       "      <td>-73.95976</td>\n",
       "      <td>United States</td>\n",
       "      <td>...</td>\n",
       "      <td>$74</td>\n",
       "      <td>30.0</td>\n",
       "      <td>270.0</td>\n",
       "      <td>7/5/2019</td>\n",
       "      <td>4.64</td>\n",
       "      <td>4.0</td>\n",
       "      <td>1.0</td>\n",
       "      <td>322.0</td>\n",
       "      <td>NaN</td>\n",
       "      <td>NaN</td>\n",
       "    </tr>\n",
       "    <tr>\n",
       "      <th>4</th>\n",
       "      <td>1003689</td>\n",
       "      <td>Entire Apt: Spacious Studio/Loft by central park</td>\n",
       "      <td>92037596077</td>\n",
       "      <td>verified</td>\n",
       "      <td>Lyndon</td>\n",
       "      <td>Manhattan</td>\n",
       "      <td>East Harlem</td>\n",
       "      <td>40.79851</td>\n",
       "      <td>-73.94399</td>\n",
       "      <td>United States</td>\n",
       "      <td>...</td>\n",
       "      <td>$41</td>\n",
       "      <td>10.0</td>\n",
       "      <td>9.0</td>\n",
       "      <td>11/19/2018</td>\n",
       "      <td>0.10</td>\n",
       "      <td>3.0</td>\n",
       "      <td>1.0</td>\n",
       "      <td>289.0</td>\n",
       "      <td>Please no smoking in the house, porch or on th...</td>\n",
       "      <td>NaN</td>\n",
       "    </tr>\n",
       "  </tbody>\n",
       "</table>\n",
       "<p>5 rows × 26 columns</p>\n",
       "</div>"
      ],
      "text/plain": [
       "        id                                              NAME      host id  \\\n",
       "0  1001254                Clean & quiet apt home by the park  80014485718   \n",
       "1  1002102                             Skylit Midtown Castle  52335172823   \n",
       "2  1002403               THE VILLAGE OF HARLEM....NEW YORK !  78829239556   \n",
       "3  1002755                                               NaN  85098326012   \n",
       "4  1003689  Entire Apt: Spacious Studio/Loft by central park  92037596077   \n",
       "\n",
       "  host_identity_verified host name neighbourhood group neighbourhood  \\\n",
       "0            unconfirmed  Madaline            Brooklyn    Kensington   \n",
       "1               verified     Jenna           Manhattan       Midtown   \n",
       "2                    NaN     Elise           Manhattan        Harlem   \n",
       "3            unconfirmed     Garry            Brooklyn  Clinton Hill   \n",
       "4               verified    Lyndon           Manhattan   East Harlem   \n",
       "\n",
       "        lat      long        country  ... service fee minimum nights  \\\n",
       "0  40.64749 -73.97237  United States  ...       $193            10.0   \n",
       "1  40.75362 -73.98377  United States  ...        $28            30.0   \n",
       "2  40.80902 -73.94190  United States  ...       $124             3.0   \n",
       "3  40.68514 -73.95976  United States  ...        $74            30.0   \n",
       "4  40.79851 -73.94399  United States  ...        $41            10.0   \n",
       "\n",
       "  number of reviews last review  reviews per month review rate number  \\\n",
       "0               9.0  10/19/2021               0.21                4.0   \n",
       "1              45.0   5/21/2022               0.38                4.0   \n",
       "2               0.0         NaN                NaN                5.0   \n",
       "3             270.0    7/5/2019               4.64                4.0   \n",
       "4               9.0  11/19/2018               0.10                3.0   \n",
       "\n",
       "  calculated host listings count  availability 365  \\\n",
       "0                            6.0             286.0   \n",
       "1                            2.0             228.0   \n",
       "2                            1.0             352.0   \n",
       "3                            1.0             322.0   \n",
       "4                            1.0             289.0   \n",
       "\n",
       "                                         house_rules license  \n",
       "0  Clean up and treat the home the way you'd like...     NaN  \n",
       "1  Pet friendly but please confirm with me if the...     NaN  \n",
       "2  I encourage you to use my kitchen, cooking and...     NaN  \n",
       "3                                                NaN     NaN  \n",
       "4  Please no smoking in the house, porch or on th...     NaN  \n",
       "\n",
       "[5 rows x 26 columns]"
      ]
     },
     "execution_count": 2,
     "metadata": {},
     "output_type": "execute_result"
    }
   ],
   "source": [
    "import pandas as pd\n",
    "\n",
    "file_path = '/Users/frostyalpaca/Desktop/airbnb_data_cleaning/data/Airbnb_Open_Data.csv'\n",
    "\n",
    "airbnb_df = pd.read_csv(file_path)\n",
    "\n",
    "airbnb_df.head()"
   ]
  },
  {
   "cell_type": "code",
   "execution_count": 3,
   "id": "72b25b50-a0b0-4d6f-9252-258d39a1bb8c",
   "metadata": {},
   "outputs": [
    {
     "data": {
      "text/plain": [
       "id                                     0\n",
       "NAME                                 250\n",
       "host id                                0\n",
       "host_identity_verified               289\n",
       "host name                            406\n",
       "neighbourhood group                   29\n",
       "neighbourhood                         16\n",
       "lat                                    8\n",
       "long                                   8\n",
       "country                              532\n",
       "country code                         131\n",
       "instant_bookable                     105\n",
       "cancellation_policy                   76\n",
       "room type                              0\n",
       "Construction year                    214\n",
       "price                                247\n",
       "service fee                          273\n",
       "minimum nights                       409\n",
       "number of reviews                    183\n",
       "last review                        15893\n",
       "reviews per month                  15879\n",
       "review rate number                   326\n",
       "calculated host listings count       319\n",
       "availability 365                     448\n",
       "house_rules                        52131\n",
       "license                           102597\n",
       "dtype: int64"
      ]
     },
     "execution_count": 3,
     "metadata": {},
     "output_type": "execute_result"
    }
   ],
   "source": [
    "airbnb_df.isnull().sum()"
   ]
  },
  {
   "cell_type": "markdown",
   "id": "d03e4514-d7dc-432d-9479-24b1c62e12de",
   "metadata": {},
   "source": [
    "License and house_rules have a huge amount of missing data. After that is last review and reviews per month. These features may not be that useful and will have to be addressed. \n",
    "Looking license and house_rules columns, there is not much we can do and should be dropped since."
   ]
  },
  {
   "cell_type": "code",
   "execution_count": 4,
   "id": "bc9e8001-8e45-42fb-a4e9-e0f467bc7502",
   "metadata": {},
   "outputs": [],
   "source": [
    "# Columns to be dropped\n",
    "columns_to_drop = ['license','house_rules']\n",
    "\n",
    "# Dropping the columns\n",
    "airbnb_data_cleaned = airbnb_df.drop(columns=columns_to_drop)"
   ]
  },
  {
   "cell_type": "markdown",
   "id": "0d6cb501-2c5a-465a-9a70-577bd6d16b46",
   "metadata": {},
   "source": [
    "For the remaining columns, it's time to check what is the percentage of the missing values to the whole column to see if we can possibily impute the missing values if they are small enough."
   ]
  },
  {
   "cell_type": "code",
   "execution_count": 11,
   "id": "90237159-bcd1-4a92-aff0-30510a95a97b",
   "metadata": {},
   "outputs": [
    {
     "data": {
      "text/plain": [
       "id                                 0.000000\n",
       "NAME                               0.243686\n",
       "host id                            0.000000\n",
       "host_identity_verified             0.281701\n",
       "host name                          0.000000\n",
       "neighbourhood group                0.000000\n",
       "neighbourhood                      0.000000\n",
       "lat                                0.000000\n",
       "long                               0.000000\n",
       "country                            0.000000\n",
       "country code                       0.127692\n",
       "instant_bookable                   0.102348\n",
       "cancellation_policy                0.074081\n",
       "room type                          0.000000\n",
       "Construction year                  0.207621\n",
       "price                              0.240762\n",
       "service fee                        0.266105\n",
       "minimum nights                     0.398670\n",
       "number of reviews                  0.178378\n",
       "last review                       15.490638\n",
       "reviews per month                 15.476991\n",
       "review rate number                 0.317767\n",
       "calculated host listings count     0.310943\n",
       "availability 365                   0.436685\n",
       "dtype: float64"
      ]
     },
     "execution_count": 11,
     "metadata": {},
     "output_type": "execute_result"
    }
   ],
   "source": [
    "# Creating a function that gives the percentage of missing values in each column\n",
    "\n",
    "def calculate_missing_percentage(airbnb_data_cleaned):\n",
    "\n",
    "    # Calculate the number of missing values per column\n",
    "    missing_counts = airbnb_data_cleaned.isnull().sum()\n",
    "\n",
    "    # Calculate the total number of rows\n",
    "    total_rows = len(airbnb_data_cleaned)\n",
    "\n",
    "    # Calculate the percentage of missing values\n",
    "    missing_percentages = (missing_counts / total_rows) * 100\n",
    "\n",
    "    return missing_percentages\n",
    "\n",
    "# Applying the function to the Airbnb dataset\n",
    "missing_percentages = calculate_missing_percentage(airbnb_data_cleaned)\n",
    "\n",
    "# Display\n",
    "missing_percentages"
   ]
  },
  {
   "cell_type": "markdown",
   "id": "6c468bda-2d64-4fed-9c0f-e4655e42e9ca",
   "metadata": {},
   "source": [
    "The idea is that any percentage of missing values under 10% will be used for imputation possibily. We are going to by column by column the meet the criteria of a missing value percentage under 10%"
   ]
  },
  {
   "cell_type": "markdown",
   "id": "d2523104-2eb8-4ec4-9354-60ea1028cfa7",
   "metadata": {},
   "source": [
    "For the 'NAME' column we will have a placeholder for the 'NaN' value. The placeholder will be 'Unknown'."
   ]
  },
  {
   "cell_type": "code",
   "execution_count": 13,
   "id": "c77bcca8-031b-40fa-9312-e43acb694abc",
   "metadata": {},
   "outputs": [],
   "source": [
    "# Imputing missing values in 'NAME' with a placeholder 'Unknown'\n",
    "airbnb_data_cleaned['NAME'].fillna('Unknown', inplace=True)"
   ]
  },
  {
   "cell_type": "markdown",
   "id": "d333d3ef-46c9-44f6-bed4-54f114b9146d",
   "metadata": {},
   "source": [
    "For the 'host_identity_verified' column we will use the mode to impute the values of 'NaN'. The reason why it is a categorical column, either 'verified' or 'unconfirmed'. The mode will revealed what is the highest frequency being used and likely guess the 'NaN' values."
   ]
  },
  {
   "cell_type": "code",
   "execution_count": 14,
   "id": "b3c718b3-0df8-4f32-914d-2340ce49fc95",
   "metadata": {},
   "outputs": [],
   "source": [
    "# Find the mode for 'host_identity_verified'\n",
    "host_mode_value = airbnb_data_cleaned['host_identity_verified'].mode()[0]\n",
    "\n",
    "# Impute missing values with the most\n",
    "airbnb_data_cleaned['host_identity_verified'].fillna(host_mode_value, inplace=True)"
   ]
  },
  {
   "cell_type": "markdown",
   "id": "fa5939eb-5b9f-433f-a67f-7aaa49c285cf",
   "metadata": {},
   "source": [
    "Now we are moving to the next column, 'host name'. Host name is a personal identifier, we can't just make up a name for that person. Instead we will use a placeholder of 'Unknown' to fill the missing values."
   ]
  },
  {
   "cell_type": "code",
   "execution_count": 15,
   "id": "72870bcb-c71d-4b50-a7be-f370f22212be",
   "metadata": {},
   "outputs": [],
   "source": [
    "# Imputing the missing values in 'host name' with a placeholder of 'Unknown'\n",
    "airbnb_data_cleaned['host name'].fillna('Unknown', inplace=True)"
   ]
  },
  {
   "cell_type": "markdown",
   "id": "9c339903-d3f9-409b-9dce-f615158078bb",
   "metadata": {},
   "source": [
    "Now looking at 'neighbourhood group', I think it is best to use 'Unknown' again. Now there is an arguement that we can use the 'neighbourhood' column to guess 'neighbourhood group', but due to time constraints of this project, we will go forward with the 'Unknown' method."
   ]
  },
  {
   "cell_type": "code",
   "execution_count": 16,
   "id": "c02b573b-a3cb-47e6-aa7a-65ab3f3b1db8",
   "metadata": {},
   "outputs": [],
   "source": [
    "# Imputing missing values in 'neighbourhood group' with a placeholder 'Unknown'\n",
    "airbnb_data_cleaned['neighbourhood group'].fillna('Unknown', inplace=True)"
   ]
  },
  {
   "cell_type": "markdown",
   "id": "3541e66d-abf0-42cf-a808-d66a06ae3585",
   "metadata": {},
   "source": [
    "Same as with the 'neighbourhood group', I am opting for the 'Unknown' approach for replacing the missing values"
   ]
  },
  {
   "cell_type": "code",
   "execution_count": 17,
   "id": "eeb7661f-9010-4bf9-bdf0-1adbefc8925d",
   "metadata": {},
   "outputs": [],
   "source": [
    "# Imputing the missing value in 'neighbourhood' with 'Unknown'\n",
    "airbnb_data_cleaned['neighbourhood'].fillna('Unknown', inplace=True)"
   ]
  },
  {
   "cell_type": "markdown",
   "id": "738afbe7-af07-4c45-9870-9964a448a3df",
   "metadata": {},
   "source": [
    "For lat and long column there is multiple options we can choose. Using means, median, or mode alone is off the table because the geographical locations can be very far from the latitude and longitude. But we can use the neighbourhood or country to help impute latitude and longitude based on the mean or median of that area. Another one is try to use outside sources like Google Maps to find it. But due to time constraint we will either use removing the rows or just leaving them missing. I'm going to choose removing the missing value rows since it would only be 8 rows for longitutde and latitude. This will also ensure that geographic analysis would be more accurate."
   ]
  },
  {
   "cell_type": "code",
   "execution_count": 18,
   "id": "396c6b16-5c88-465f-8675-c21804539b3b",
   "metadata": {},
   "outputs": [],
   "source": [
    "# Dropping rows where either 'lat' or 'long' column has missing values\n",
    "airbnb_data_cleaned.dropna(subset=['lat', 'long'], inplace=True)"
   ]
  },
  {
   "cell_type": "markdown",
   "id": "4b50a0de-cdec-42ca-9e09-a03cfd8fd6fe",
   "metadata": {},
   "source": [
    "Due to time constraints of the project, we will replace 'NaN' with 'Unknown' for the country column."
   ]
  },
  {
   "cell_type": "code",
   "execution_count": 19,
   "id": "21abbb0e-83b0-4898-9a50-b7c41706f03a",
   "metadata": {},
   "outputs": [],
   "source": [
    "# Imputing the missing value in 'neighbourhood' with 'Unknown'\n",
    "airbnb_data_cleaned['country'].fillna('Unknown', inplace=True)"
   ]
  },
  {
   "cell_type": "markdown",
   "id": "fce79718-9a15-4012-ad50-8a5d64f6315c",
   "metadata": {},
   "source": [
    "For 'country code' we can impute based on 'country' column. We can also use a placeholder, remove rows, or leave it missing. Since I do not believe 'country code' is a significant column, I will choose the placeholder."
   ]
  },
  {
   "cell_type": "code",
   "execution_count": 22,
   "id": "ef6936c3-6bd0-48d3-9916-3325922f8244",
   "metadata": {},
   "outputs": [],
   "source": [
    "# Imputing the missing value in 'neighbourhood' with 'Unknown'\n",
    "airbnb_data_cleaned['country code'].fillna('Unknown', inplace=True)"
   ]
  },
  {
   "cell_type": "markdown",
   "id": "30c93ee3-ec56-4ea9-8624-3d83c863ca1a",
   "metadata": {},
   "source": [
    "For 'instant_bookable', I will choose the mode, whichever has a higher frequency (True or False), I will impute for the missing values."
   ]
  },
  {
   "cell_type": "code",
   "execution_count": 27,
   "id": "8b750a96-bf9c-48fb-91fc-a64c40e78d96",
   "metadata": {},
   "outputs": [],
   "source": [
    "# Finding the most common value in 'instant_bookable' column\n",
    "mode_instant_bookable = airbnb_data_cleaned['instant_bookable'].mode()[0]\n",
    "\n",
    "# Imputing the missing values with the mode value\n",
    "airbnb_data_cleaned['instant_bookable'].fillna(mode_instant_bookable, inplace=True)"
   ]
  },
  {
   "cell_type": "markdown",
   "id": "909f7938-d8cc-4a9c-9781-7e0e197912da",
   "metadata": {},
   "source": [
    "The two options I see with 'cancellation_policy' is either to use a placeholder or use the mode. Using a placeholder will create a fourth category. Using the mode may cause bias within the data. I will choose mode for the sake of practice."
   ]
  },
  {
   "cell_type": "code",
   "execution_count": 31,
   "id": "4be62e76-89cc-4301-b3db-440741a9363c",
   "metadata": {},
   "outputs": [],
   "source": [
    "# Finding the most common value in 'cancellation_policy columns\n",
    "mode_cancellation_policy = airbnb_data_cleaned['cancellation_policy'].mode()[0]\n",
    "\n",
    "# Imputing the missing values with the mode value\n",
    "airbnb_data_cleaned['cancellation_policy'].fillna(mode_cancellation_policy, inplace=True)"
   ]
  },
  {
   "cell_type": "code",
   "execution_count": 32,
   "id": "ad5b54c9-39ed-41b8-bf7f-c4306e80fff1",
   "metadata": {},
   "outputs": [
    {
     "data": {
      "text/plain": [
       "id                                    0\n",
       "NAME                                  0\n",
       "host id                               0\n",
       "host_identity_verified                0\n",
       "host name                             0\n",
       "neighbourhood group                   0\n",
       "neighbourhood                         0\n",
       "lat                                   0\n",
       "long                                  0\n",
       "country                               0\n",
       "country code                          0\n",
       "instant_bookable                      0\n",
       "cancellation_policy                   0\n",
       "room type                             0\n",
       "Construction year                   213\n",
       "price                               247\n",
       "service fee                         273\n",
       "minimum nights                      409\n",
       "number of reviews                   183\n",
       "last review                       15892\n",
       "reviews per month                 15878\n",
       "review rate number                  326\n",
       "calculated host listings count      319\n",
       "availability 365                    448\n",
       "dtype: int64"
      ]
     },
     "execution_count": 32,
     "metadata": {},
     "output_type": "execute_result"
    }
   ],
   "source": [
    "airbnb_data_cleaned.isnull().sum()"
   ]
  },
  {
   "cell_type": "code",
   "execution_count": 34,
   "id": "098d460a-7d7d-403d-8291-bd243d66ea42",
   "metadata": {},
   "outputs": [],
   "source": [
    "unique = airbnb_data_cleaned['Construction year'].unique()"
   ]
  },
  {
   "cell_type": "code",
   "execution_count": 35,
   "id": "1ea44440-980b-489c-aa0c-33a20a42abbe",
   "metadata": {},
   "outputs": [
    {
     "name": "stdout",
     "output_type": "stream",
     "text": [
      "[2020. 2007. 2005. 2009. 2013. 2015. 2004. 2008. 2010. 2019. 2018. 2006.\n",
      " 2016. 2017. 2021. 2003. 2011. 2012. 2022. 2014.   nan]\n"
     ]
    }
   ],
   "source": [
    "print(unique)"
   ]
  },
  {
   "cell_type": "code",
   "execution_count": 36,
   "id": "273dc404-2470-49f4-87b3-aa5bc3072957",
   "metadata": {},
   "outputs": [
    {
     "name": "stdout",
     "output_type": "stream",
     "text": [
      "<class 'pandas.core.frame.DataFrame'>\n",
      "Int64Index: 102591 entries, 0 to 102598\n",
      "Data columns (total 24 columns):\n",
      " #   Column                          Non-Null Count   Dtype  \n",
      "---  ------                          --------------   -----  \n",
      " 0   id                              102591 non-null  int64  \n",
      " 1   NAME                            102591 non-null  object \n",
      " 2   host id                         102591 non-null  int64  \n",
      " 3   host_identity_verified          102591 non-null  object \n",
      " 4   host name                       102591 non-null  object \n",
      " 5   neighbourhood group             102591 non-null  object \n",
      " 6   neighbourhood                   102591 non-null  object \n",
      " 7   lat                             102591 non-null  float64\n",
      " 8   long                            102591 non-null  float64\n",
      " 9   country                         102591 non-null  object \n",
      " 10  country code                    102591 non-null  object \n",
      " 11  instant_bookable                102591 non-null  bool   \n",
      " 12  cancellation_policy             102591 non-null  object \n",
      " 13  room type                       102591 non-null  object \n",
      " 14  Construction year               102378 non-null  float64\n",
      " 15  price                           102344 non-null  object \n",
      " 16  service fee                     102318 non-null  object \n",
      " 17  minimum nights                  102182 non-null  float64\n",
      " 18  number of reviews               102408 non-null  float64\n",
      " 19  last review                     86699 non-null   object \n",
      " 20  reviews per month               86713 non-null   float64\n",
      " 21  review rate number              102265 non-null  float64\n",
      " 22  calculated host listings count  102272 non-null  float64\n",
      " 23  availability 365                102143 non-null  float64\n",
      "dtypes: bool(1), float64(9), int64(2), object(12)\n",
      "memory usage: 18.9+ MB\n"
     ]
    }
   ],
   "source": [
    "airbnb_data_cleaned.info()"
   ]
  },
  {
   "cell_type": "markdown",
   "id": "236d4589-f555-43db-987b-fb2df9148aeb",
   "metadata": {},
   "source": [
    "Since Construction year is a float64 Dtype, using 'Unknown' as a placeholder is off the table because it will interfere calculations. Think using the mode can cause a bit of bias, since there is a lot of years construction could've been. I can't leave the missing values because the 'NaN' value can also interfere with the calculation. Therefore I am the decision to remove the rows with missing values."
   ]
  },
  {
   "cell_type": "code",
   "execution_count": 37,
   "id": "e961564f-5816-478d-8388-19ccbbc2aa91",
   "metadata": {},
   "outputs": [],
   "source": [
    "# Remove rows where 'Construction year' is missing\n",
    "airbnb_data_cleaned = airbnb_data_cleaned.dropna(subset=['Construction year'])"
   ]
  },
  {
   "cell_type": "markdown",
   "id": "fc1465cf-5358-43d0-92ae-5f93f1bab4b6",
   "metadata": {},
   "source": [
    "Price is Dtype is object. Before we start cleaning this column, we want to convert it to a float first so it can be used in calculations"
   ]
  },
  {
   "cell_type": "code",
   "execution_count": 41,
   "id": "42dc766a-eec1-4fca-a71b-f81d0bc8a75d",
   "metadata": {},
   "outputs": [
    {
     "name": "stderr",
     "output_type": "stream",
     "text": [
      "/var/folders/bj/l1bnwrwj2gvfmhstjqwrc_7m0000gn/T/ipykernel_4503/2110275434.py:2: SettingWithCopyWarning: \n",
      "A value is trying to be set on a copy of a slice from a DataFrame.\n",
      "Try using .loc[row_indexer,col_indexer] = value instead\n",
      "\n",
      "See the caveats in the documentation: https://pandas.pydata.org/pandas-docs/stable/user_guide/indexing.html#returning-a-view-versus-a-copy\n",
      "  airbnb_data_cleaned['price'] = airbnb_data_cleaned['price'].replace('[\\$,]', '', regex=True).astype(float)\n"
     ]
    }
   ],
   "source": [
    "# Remove the dollar sign and convert to numeric\n",
    "airbnb_data_cleaned['price'] = airbnb_data_cleaned['price'].replace('[\\$,]', '', regex=True).astype(float)"
   ]
  },
  {
   "cell_type": "markdown",
   "id": "557a01b1-430d-47e7-b296-886d545cd665",
   "metadata": {},
   "source": [
    "For price, I choose median to replace the missing values, so they are less affected by outliers if I used the mean."
   ]
  },
  {
   "cell_type": "code",
   "execution_count": 45,
   "id": "5bd5cb41-cd5c-4534-9f0b-dd938bba48a3",
   "metadata": {},
   "outputs": [
    {
     "name": "stderr",
     "output_type": "stream",
     "text": [
      "/var/folders/bj/l1bnwrwj2gvfmhstjqwrc_7m0000gn/T/ipykernel_4503/1093754133.py:5: SettingWithCopyWarning: \n",
      "A value is trying to be set on a copy of a slice from a DataFrame\n",
      "\n",
      "See the caveats in the documentation: https://pandas.pydata.org/pandas-docs/stable/user_guide/indexing.html#returning-a-view-versus-a-copy\n",
      "  airbnb_data_cleaned['price'].fillna(median_price, inplace=True)\n"
     ]
    }
   ],
   "source": [
    "# Calculate the median of the 'price' column\n",
    "median_price = airbnb_data_cleaned['price'].median()\n",
    "\n",
    "# Impute missing values with the median\n",
    "airbnb_data_cleaned['price'].fillna(median_price, inplace=True)"
   ]
  },
  {
   "cell_type": "markdown",
   "id": "07164893-6d73-4a39-b2f4-f077321a6db4",
   "metadata": {},
   "source": [
    "Same as price, we will need to first convert service dtype to float"
   ]
  },
  {
   "cell_type": "code",
   "execution_count": 49,
   "id": "94bb6738-6601-406e-b488-4bd7c4b2d489",
   "metadata": {},
   "outputs": [
    {
     "name": "stderr",
     "output_type": "stream",
     "text": [
      "/var/folders/bj/l1bnwrwj2gvfmhstjqwrc_7m0000gn/T/ipykernel_4503/975529155.py:2: SettingWithCopyWarning: \n",
      "A value is trying to be set on a copy of a slice from a DataFrame.\n",
      "Try using .loc[row_indexer,col_indexer] = value instead\n",
      "\n",
      "See the caveats in the documentation: https://pandas.pydata.org/pandas-docs/stable/user_guide/indexing.html#returning-a-view-versus-a-copy\n",
      "  airbnb_data_cleaned['service fee'] = airbnb_data_cleaned['service fee'].replace('[\\$,]', '', regex=True).astype(float)\n"
     ]
    }
   ],
   "source": [
    "# Remove the dollar sign and covert to numeric\n",
    "airbnb_data_cleaned['service fee'] = airbnb_data_cleaned['service fee'].replace('[\\$,]', '', regex=True).astype(float)"
   ]
  },
  {
   "cell_type": "markdown",
   "id": "d7edcf21-e37a-4883-955a-bd7c1d42f49f",
   "metadata": {},
   "source": [
    "We will use median again to impute the missing values"
   ]
  },
  {
   "cell_type": "code",
   "execution_count": 51,
   "id": "9349c525-968c-43c0-9706-68363e90642c",
   "metadata": {},
   "outputs": [
    {
     "name": "stderr",
     "output_type": "stream",
     "text": [
      "/var/folders/bj/l1bnwrwj2gvfmhstjqwrc_7m0000gn/T/ipykernel_4503/4035015781.py:5: SettingWithCopyWarning: \n",
      "A value is trying to be set on a copy of a slice from a DataFrame\n",
      "\n",
      "See the caveats in the documentation: https://pandas.pydata.org/pandas-docs/stable/user_guide/indexing.html#returning-a-view-versus-a-copy\n",
      "  airbnb_data_cleaned['service fee'].fillna(median_service_fee, inplace=True)\n"
     ]
    }
   ],
   "source": [
    "# Calculate the median of the 'price' column\n",
    "median_service_fee = airbnb_data_cleaned['service fee'].median()\n",
    "\n",
    "# Impute the missing values with the median\n",
    "airbnb_data_cleaned['service fee'].fillna(median_service_fee, inplace=True)"
   ]
  },
  {
   "cell_type": "markdown",
   "id": "2e99dfec-a13f-4554-aef1-1a204e529354",
   "metadata": {},
   "source": [
    "For minimum nights, I want to check first if there is outliers to see if we can use the mean."
   ]
  },
  {
   "cell_type": "code",
   "execution_count": 55,
   "id": "725f5d6b-e9d5-4b2e-b2d8-e27eb220c7cc",
   "metadata": {},
   "outputs": [
    {
     "name": "stdout",
     "output_type": "stream",
     "text": [
      "count    101981.000000\n",
      "mean          8.135113\n",
      "std          30.561006\n",
      "min       -1223.000000\n",
      "25%           2.000000\n",
      "50%           3.000000\n",
      "75%           5.000000\n",
      "max        5645.000000\n",
      "Name: minimum nights, dtype: float64\n"
     ]
    }
   ],
   "source": [
    "# Statistical summary\n",
    "stats_summary = airbnb_data_cleaned['minimum nights'].describe()\n",
    "print(stats_summary)"
   ]
  },
  {
   "cell_type": "markdown",
   "id": "f35017ce-7d65-44fd-af4b-721d091cb4f1",
   "metadata": {},
   "source": [
    "There is a -1223 minimum night, which is impossible. Let's remove any values that are below 0, and also there is minimum nights that go beyond a year. We will also remove those"
   ]
  },
  {
   "cell_type": "code",
   "execution_count": 59,
   "id": "229dfa74-290c-48ec-a11c-badfa9822541",
   "metadata": {},
   "outputs": [],
   "source": [
    "# Remove rows where 'minimum nights' is negative or extremly high\n",
    "airbnb_data_cleaned = airbnb_data_cleaned[(airbnb_data_cleaned['minimum nights'] > 0) & (airbnb_data_cleaned['minimum nights'] < 365)]"
   ]
  },
  {
   "cell_type": "code",
   "execution_count": 60,
   "id": "e3b3cffb-946b-4be6-9a6e-44bad4bec700",
   "metadata": {},
   "outputs": [
    {
     "name": "stdout",
     "output_type": "stream",
     "text": [
      "count    101880.000000\n",
      "mean          7.669415\n",
      "std          14.954139\n",
      "min           1.000000\n",
      "25%           2.000000\n",
      "50%           3.000000\n",
      "75%           5.000000\n",
      "max         364.000000\n",
      "Name: minimum nights, dtype: float64\n"
     ]
    }
   ],
   "source": [
    "# Statistical summary\n",
    "stats_summary = airbnb_data_cleaned['minimum nights'].describe()\n",
    "print(stats_summary)"
   ]
  },
  {
   "cell_type": "markdown",
   "id": "cb2c58ce-8ead-41d3-8924-4e2375e0d0f7",
   "metadata": {},
   "source": [
    "Median may be a better fit than mean for replace the missing values"
   ]
  },
  {
   "cell_type": "code",
   "execution_count": 62,
   "id": "9e340727-365b-4061-aa5c-9049ee939509",
   "metadata": {},
   "outputs": [],
   "source": [
    "# Find the median for the 'minimum nights'\n",
    "minimum_nights_median = airbnb_data_cleaned['minimum nights'].median()\n",
    "\n",
    "# Impute the missing values with the median\n",
    "airbnb_data_cleaned['minimum nights'].fillna(minimum_nights_median, inplace=True)"
   ]
  },
  {
   "cell_type": "markdown",
   "id": "ee1ddc3b-a15c-4364-bf1c-d65f581e0343",
   "metadata": {},
   "source": [
    "Check the summary statistics of 'number of reviews'"
   ]
  },
  {
   "cell_type": "code",
   "execution_count": 65,
   "id": "d886b02f-52d6-4ec1-802c-18715d2f7432",
   "metadata": {},
   "outputs": [
    {
     "name": "stdout",
     "output_type": "stream",
     "text": [
      "count    101700.000000\n",
      "mean         27.385762\n",
      "std          49.302647\n",
      "min           0.000000\n",
      "25%           1.000000\n",
      "50%           7.000000\n",
      "75%          30.000000\n",
      "max        1024.000000\n",
      "Name: number of reviews, dtype: float64\n"
     ]
    }
   ],
   "source": [
    "# Statiscal Summary\n",
    "reviews_stat_summary = airbnb_data_cleaned['number of reviews'].describe()\n",
    "print(reviews_stat_summary)"
   ]
  },
  {
   "cell_type": "markdown",
   "id": "5c4f85f8-ce63-4b40-90ec-207a93237535",
   "metadata": {},
   "source": [
    "For 'number of reviews' I will choose median over mean for misplacing the values since the outliers are pretty high."
   ]
  },
  {
   "cell_type": "code",
   "execution_count": 85,
   "id": "adb3dcb2-7faa-48bb-9d84-759b4eda2cc6",
   "metadata": {},
   "outputs": [],
   "source": [
    "# Find the median for 'number of reviews'\n",
    "review_numbers_median = airbnb_data_cleaned['number of reviews'].median()\n",
    "\n",
    "# Replace the missing values with the median\n",
    "airbnb_data_cleaned['number of reviews'].fillna(review_numbers_median, inplace=True)"
   ]
  },
  {
   "cell_type": "markdown",
   "id": "f3bd3b85-826b-4af6-b8a6-5088072d67d6",
   "metadata": {},
   "source": [
    "In this scenario, let's assume that that last review is not important to this analysis. Since this column is missing 15% of its value, we will decided to drop the column instead of removing the rows that are missing value. It's not worth losing 15,000+ rows for a column that does not make"
   ]
  },
  {
   "cell_type": "code",
   "execution_count": 68,
   "id": "34d75e6d-7c8e-4b85-b3a0-3363f5c4fe23",
   "metadata": {},
   "outputs": [],
   "source": [
    "# Dropping the 'last review' column'\n",
    "airbnb_data_cleaned = airbnb_data_cleaned.drop(columns=['last review'])"
   ]
  },
  {
   "cell_type": "markdown",
   "id": "9351df1c-db40-4d47-bd4a-3dc020697ab7",
   "metadata": {},
   "source": [
    "The 'review per month', even though is missing 15% of its values, it does represent the average rate of reviews a listing receieves per month. This I believe is important info for analysis. I don't want to either drop the column nor remove the rows with missing values. Instead I will use the median to replace missing values"
   ]
  },
  {
   "cell_type": "code",
   "execution_count": 71,
   "id": "fa45672d-feb1-4d9c-8877-fd3f7d5af5f9",
   "metadata": {},
   "outputs": [],
   "source": [
    "# Find the median for 'reviews per month'\n",
    "reviews_per_month_median = airbnb_data_cleaned['reviews per month'].median()\n",
    "\n",
    "# Impute the missing values with the median\n",
    "airbnb_data_cleaned['reviews per month'].fillna(reviews_per_month_median, inplace=True)"
   ]
  },
  {
   "cell_type": "markdown",
   "id": "8148297b-7e39-4ba6-88f1-344675393613",
   "metadata": {},
   "source": [
    "For 'review rate number', I don't want to use a placeholder of 0 or a string placeholder. Because It can give the individual host a bad review and also using a string placeholder will get in the way of doing calculations. I'm hesistant using mean or median to impute because it can give a bad host a good review rate or vice verses. This can introduce bias. Therefore, I think it will decide to use remove the rows."
   ]
  },
  {
   "cell_type": "code",
   "execution_count": 73,
   "id": "e5478831-e460-4ff8-b252-e4e89e4b5fa0",
   "metadata": {},
   "outputs": [],
   "source": [
    "# Removing rows where 'review rate number' is missing\n",
    "airbnb_data_cleaned = airbnb_data_cleaned.dropna(subset=['review rate number'])"
   ]
  },
  {
   "cell_type": "markdown",
   "id": "73dfc3bb-1ce2-484f-9662-2f5e8aa0404d",
   "metadata": {},
   "source": [
    "Since you own a fraction of a property on airbnb, we need to convert it a int dtype from a float dtype. Also we will impute the missing values with the median value"
   ]
  },
  {
   "cell_type": "code",
   "execution_count": 75,
   "id": "ef956ccd-8fc3-428a-80d4-641de763b443",
   "metadata": {},
   "outputs": [
    {
     "name": "stderr",
     "output_type": "stream",
     "text": [
      "/var/folders/bj/l1bnwrwj2gvfmhstjqwrc_7m0000gn/T/ipykernel_4503/1726227001.py:5: SettingWithCopyWarning: \n",
      "A value is trying to be set on a copy of a slice from a DataFrame\n",
      "\n",
      "See the caveats in the documentation: https://pandas.pydata.org/pandas-docs/stable/user_guide/indexing.html#returning-a-view-versus-a-copy\n",
      "  airbnb_data_cleaned['calculated host listings count'].fillna(listing_count_median, inplace=True)\n"
     ]
    }
   ],
   "source": [
    "# Find the median\n",
    "listing_count_median = airbnb_data_cleaned['calculated host listings count'].median()\n",
    "\n",
    "# Impute the missing values with the median\n",
    "airbnb_data_cleaned['calculated host listings count'].fillna(listing_count_median, inplace=True)"
   ]
  },
  {
   "cell_type": "code",
   "execution_count": 77,
   "id": "3853dea3-fd6d-463d-8d16-93ec67337169",
   "metadata": {},
   "outputs": [
    {
     "name": "stderr",
     "output_type": "stream",
     "text": [
      "/var/folders/bj/l1bnwrwj2gvfmhstjqwrc_7m0000gn/T/ipykernel_4503/1718280252.py:3: SettingWithCopyWarning: \n",
      "A value is trying to be set on a copy of a slice from a DataFrame.\n",
      "Try using .loc[row_indexer,col_indexer] = value instead\n",
      "\n",
      "See the caveats in the documentation: https://pandas.pydata.org/pandas-docs/stable/user_guide/indexing.html#returning-a-view-versus-a-copy\n",
      "  airbnb_data_cleaned['calculated host listings count'] = airbnb_data_cleaned['calculated host listings count'].astype(int)\n"
     ]
    }
   ],
   "source": [
    "#  Now change the Dtype to int \n",
    "airbnb_data_cleaned['calculated host listings count'] = airbnb_data_cleaned['calculated host listings count'].astype(int)"
   ]
  },
  {
   "cell_type": "markdown",
   "id": "d26a2c97-4a9a-43dd-98c2-1de1c52974e1",
   "metadata": {},
   "source": [
    "For practice, we will remove the missing values from 'availability 365' column "
   ]
  },
  {
   "cell_type": "code",
   "execution_count": 81,
   "id": "ee3bd33a-5ed5-4e60-b469-3c316aeeaed7",
   "metadata": {},
   "outputs": [],
   "source": [
    "# Remove the missing value rows\n",
    "airbnb_data_cleaned = airbnb_data_cleaned.dropna(subset=['availability 365'])"
   ]
  },
  {
   "cell_type": "markdown",
   "id": "50b12f16-d950-4366-a153-854524332183",
   "metadata": {},
   "source": [
    "For 'availability 365' we want to change it to a int dtype"
   ]
  },
  {
   "cell_type": "code",
   "execution_count": 82,
   "id": "f08bc557-43c6-448b-9617-78100be2e21d",
   "metadata": {},
   "outputs": [],
   "source": [
    "# Changing the Dtype to int\n",
    "airbnb_data_cleaned['availability 365'] = airbnb_data_cleaned['availability 365'].astype(int)"
   ]
  },
  {
   "cell_type": "code",
   "execution_count": 83,
   "id": "a9d9c939-def8-406b-87e8-01cc7f1e62cf",
   "metadata": {},
   "outputs": [
    {
     "data": {
      "text/plain": [
       "id                                0\n",
       "NAME                              0\n",
       "host id                           0\n",
       "host_identity_verified            0\n",
       "host name                         0\n",
       "neighbourhood group               0\n",
       "neighbourhood                     0\n",
       "lat                               0\n",
       "long                              0\n",
       "country                           0\n",
       "country code                      0\n",
       "instant_bookable                  0\n",
       "cancellation_policy               0\n",
       "room type                         0\n",
       "Construction year                 0\n",
       "price                             0\n",
       "service fee                       0\n",
       "minimum nights                    0\n",
       "number of reviews                 0\n",
       "reviews per month                 0\n",
       "review rate number                0\n",
       "calculated host listings count    0\n",
       "availability 365                  0\n",
       "dtype: int64"
      ]
     },
     "execution_count": 83,
     "metadata": {},
     "output_type": "execute_result"
    }
   ],
   "source": [
    "# Now check if we have any missing values\n",
    "\n",
    "airbnb_data_cleaned.isnull().sum()"
   ]
  },
  {
   "cell_type": "markdown",
   "id": "b312afa9-b7a2-4a2b-b1ca-97386113ceb8",
   "metadata": {},
   "source": [
    "# Conclusion\n",
    "\n",
    "## Summary of Data Cleaning Process\n",
    "Throughout this project, we have successfully navigated various data cleaning challenges within the Airbnb dataset. Key steps in our process included handling missing values, correcting data types, addressing outliers, and ensuring overall data integrity. Each of these steps was crucial in transforming the raw dataset into a more analytically valuable form."
   ]
  }
 ],
 "metadata": {
  "kernelspec": {
   "display_name": "Python 3 (ipykernel)",
   "language": "python",
   "name": "python3"
  },
  "language_info": {
   "codemirror_mode": {
    "name": "ipython",
    "version": 3
   },
   "file_extension": ".py",
   "mimetype": "text/x-python",
   "name": "python",
   "nbconvert_exporter": "python",
   "pygments_lexer": "ipython3",
   "version": "3.8.18"
  }
 },
 "nbformat": 4,
 "nbformat_minor": 5
}
